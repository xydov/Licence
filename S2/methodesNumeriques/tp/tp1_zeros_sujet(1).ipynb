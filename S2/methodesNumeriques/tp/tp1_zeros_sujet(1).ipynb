{
 "cells": [
  {
   "cell_type": "markdown",
   "metadata": {},
   "source": [
    "# Recherche de racine d'une fonction numérique"
   ]
  },
  {
   "cell_type": "code",
   "execution_count": 1,
   "metadata": {},
   "outputs": [
    {
     "name": "stdout",
     "output_type": "stream",
     "text": [
      "Populating the interactive namespace from numpy and matplotlib\n"
     ]
    }
   ],
   "source": [
    "%pylab inline"
   ]
  },
  {
   "cell_type": "markdown",
   "metadata": {},
   "source": [
    "## Des fonctions pour tester\n",
    "\n",
    "On considère la fonction définie sur $\\mathbb{R}$ par \n",
    "$$\n",
    "f_1(x) = \\cos(x)-x+\\dfrac{1}{10}.\n",
    "$$\n",
    "\n",
    "Commençons par écrire une fonction **f1(x)** qui retournera un scalaire **y** qui correspond à $f_1(x)$."
   ]
  },
  {
   "cell_type": "code",
   "execution_count": 2,
   "metadata": {},
   "outputs": [],
   "source": [
    "def f1(x):    \n",
    "    return cos(x)-x+(1/10)"
   ]
  },
  {
   "cell_type": "markdown",
   "metadata": {},
   "source": [
    "Procéder comme ci-dessus pour les fonctions suivantes :\n",
    "+ $f_2(x) = x^3+x-1000$,\n",
    "+ $f_3(x) = x-e^{-x}$."
   ]
  },
  {
   "cell_type": "code",
   "execution_count": 3,
   "metadata": {},
   "outputs": [],
   "source": [
    "def f2(x):\n",
    "    return x**3+x-1000\n",
    "def f3(x):\n",
    "    return x-exp(-x)"
   ]
  },
  {
   "cell_type": "markdown",
   "metadata": {},
   "source": [
    "## Localisation par la méthode de dichotomie"
   ]
  },
  {
   "cell_type": "markdown",
   "metadata": {},
   "source": [
    "Ecrire une fonction **dicho(f,a,b,epsx)** qui applique l'algorithme de la dichotomie pour chercher la racine de **f** qui existe entre **a** et **b** tant que \n",
    "$$\n",
    "\\quad \\dfrac{b_{n}-a_n}{2}> epsx,\n",
    "$$\n",
    "où $c_n$ est le milieu de l'intervalle $[a_n,b_n]$ considéré à l'étape $n$.\n",
    "\n",
    "Cette fonction doit retourner le dernier milieu calculé, ainsi que le nombre d'itérations effectuées."
   ]
  },
  {
   "cell_type": "code",
   "execution_count": 4,
   "metadata": {},
   "outputs": [],
   "source": [
    "def dicho(f,a,b,epsx):\n",
    "    m = (a+b)/2\n",
    "    while (b-a)/2 > epsx:\n",
    "        if f(a)*f(m) < 0:\n",
    "            b = m\n",
    "        else:\n",
    "            a = m\n",
    "        m = (a+b)/2\n",
    "    return m"
   ]
  },
  {
   "cell_type": "markdown",
   "metadata": {},
   "source": [
    "Obtenir une approximation grossière de la racine $r_i$ de chacune des fonctions $f_i$ définies ci-dessus, en appliquant la méthode de dichotomie avec **epsx = 0.01**, en utilisant les intervalles initiaux suivants : \n",
    "+ pour $f_1$, $[a,b] = \\left[0,\\dfrac{3 \\pi}{8}\\right]$ ; \n",
    "+ pour $f_2$, $[a,b] = [9,10]$ ; \n",
    "+ pour $f_3$, $[a,b] = [0,1]$."
   ]
  },
  {
   "cell_type": "code",
   "execution_count": 5,
   "metadata": {},
   "outputs": [
    {
     "name": "stdout",
     "output_type": "stream",
     "text": [
      "0.8007379712763046\n",
      "9.9609375\n",
      "0.5703125\n"
     ]
    }
   ],
   "source": [
    "rr = 3*pi/8\n",
    "print(dicho(f1, 0, rr, 0.01))\n",
    "print(dicho(f2, 9, 10, 0.01))\n",
    "print(dicho(f3, 0, 1, 0.01))"
   ]
  },
  {
   "cell_type": "markdown",
   "metadata": {},
   "source": [
    "## Approche rapide et précise de la racine par la méthode de Newton"
   ]
  },
  {
   "cell_type": "markdown",
   "metadata": {},
   "source": [
    "Ecrire une fonction **Newton(f,df,x0,epsx,epsf)** qui cherche à approcher précisément la racine de **f**, en appliquant l'algorithme de Newton depuis **x0** tant que \n",
    "$$\n",
    "|f(x_n)| > epsf \\quad\\mbox{et}\\quad |x_{n+1}-x_n|> epsx.\n",
    "$$\n",
    "\n",
    "La fonction **df** permet d'évaluer la dérivée de la fonction **f**.\n",
    "\n",
    "Cette fonction doit retourner le dernier itéré calculé, ainsi que le nombre d'itérations effectuées."
   ]
  },
  {
   "cell_type": "code",
   "execution_count": 12,
   "metadata": {},
   "outputs": [],
   "source": [
    "def newton(f, df, x0, epsx, epsf):\n",
    "    xp1 = x0 - (f(x0)/df(x0))\n",
    "    while (fabs(f(xp1)) > epsf) and (fabs(xp1 - x0)>epsx):\n",
    "        x0 = xp1\n",
    "        xp1 = x0 - (f(x0)/df(x0))\n",
    "    \n",
    "    return xp1"
   ]
  },
  {
   "cell_type": "markdown",
   "metadata": {},
   "source": [
    "Obtenir une approximation précise de la racine $r_i$ de chacune des fonctions $f_i$ définies ci-dessus, en appliquant la méthode de Newton avec **epsx = epsf =**$10^{-10}$, en utilisant pour **x0** les solutions grossières obtenues par la méthode de dichotomie.\n",
    "\n",
    "Pour pouvoir appeler la fonction **Newton**, il faudra penser à écrire des fonctions **df1**, **df2**, et **df3** qui permettent d'évaluer les dérivées des fonctions $f_1$, $f_2$ et $f_3$ en un point $x$."
   ]
  },
  {
   "cell_type": "code",
   "execution_count": 13,
   "metadata": {},
   "outputs": [
    {
     "name": "stdout",
     "output_type": "stream",
     "text": [
      "0.7980816013977275\n",
      "9.966666790534974\n",
      "0.5671432904091873\n"
     ]
    }
   ],
   "source": [
    "def df1(x):\n",
    "    return -sin(x)-1\n",
    "def df2(x):\n",
    "    return 3*x**2 + 1\n",
    "def df3(x):\n",
    "    return 1 + exp(-x)\n",
    "\n",
    "eeee = 10**-10\n",
    "print(newton(f1, df1, dicho(f1, 0, rr, 0.01),eeee, eeee ))\n",
    "print(newton(f2, df2, dicho(f2, 9, 10, 0.01), eeee, eeee))\n",
    "print(newton(f3, df3, dicho(f3, 0, 1, 0.01), eeee, eeee))\n"
   ]
  },
  {
   "cell_type": "markdown",
   "metadata": {},
   "source": [
    "## Une application : le service de R. Federer\n",
    "\n",
    "R. Federer est au service depuis la position O de coordonnées $(0,0,0)$. Il lance la balle verticalement et la frappe avec sa raquette en un point D situé sur la verticale de O à la hauteur $H$.\n",
    "La balle part alors de D avec une vitesse de module $v_0$ et un angle $\\alpha$ par rapport à l'horizontale.\n",
    "On se place alors dans un repère orthonormé tel que les coordonnées de $\\vec{v}$ sont\n",
    "$(v_0 \\cos(\\alpha),v_0 \\sin(\\alpha),0)$.\n",
    "Supposons que la balle est de masse $m$ et considérons-la comme un point. \n",
    "On étudie le mouvement de la balle dans le repère indiqué ci-dessus, en négligeant l'action de l'air.\n",
    "\n",
    "La balle est soumise uniquement à son poids $\\vec{P}$. \n",
    "En effet, on ne tient compte ni de la poussée d’Archimède, ni de la force de\n",
    "frottement de l’air sur la balle. \n",
    "De plus, la raquette n’agit plus pendant le mouvement de la balle.\n",
    "\n",
    "En appliquant la seconde loi de Newton à la balle on a simplement $m \\vec{a} = m \\vec{g}$, c'est à dire $\\vec{a} = \\vec{g}$, ou encore, en projetant sur chacun des axes : \n",
    "$$\n",
    "\\begin{array}{rcl}\n",
    "\\dfrac{dv_x}{dt} & = & 0,\n",
    "\\\\\n",
    "\\dfrac{dv_y}{dt} & = & -g,\n",
    "\\\\\n",
    "v_z & = & 0.\n",
    "\\end{array}\n",
    "$$\n",
    "\n",
    "En intégrant une première fois et en utilisant les conditions initiales de vitesse, on obtient\n",
    "$$\n",
    "\\begin{array}{rcl}\n",
    "v_x & = & v_0 \\cos(\\alpha),\n",
    "\\\\\n",
    "v_y & = & -gt+v_0 \\sin(\\alpha),\n",
    "\\\\\n",
    "v_z & = & 0.\n",
    "\\end{array}\n",
    "$$\n",
    "\n",
    "Si on intègre une seconde fois et si on utilise les conditions initiales de position, on aboutit à\n",
    "$$\n",
    "\\begin{array}{rcl}\n",
    "x & = & t v_0 \\cos(\\alpha),\n",
    "\\\\\n",
    "y & = & -g\\dfrac{t^2}{2}+tv_0 \\sin(\\alpha) + H,\n",
    "\\\\\n",
    "z & = & 0.\n",
    "\\end{array}\n",
    "$$\n",
    "\n",
    "On peut déduire $t$ de la première équation : $t = \\dfrac{x}{v_0 \\cos(\\alpha)}$.\n",
    "En injectant le résultat dans la seconde équation, on obtient :\n",
    "$$\n",
    "y = -\\dfrac{g}{2} \\left(\\dfrac{x}{v_0 \\cos(\\alpha)}\\right)^2+\\left(\\dfrac{x}{v_0 \\cos(\\alpha)}\\right)v_0 \\sin(\\alpha) + H\n",
    "$$\n",
    "ou encore\n",
    "$$\n",
    "y = -\\dfrac{g}{2} \\left(\\dfrac{x}{v_0 \\cos(\\alpha)}\\right)^2+x \\tan(\\alpha) + H.\n",
    "$$"
   ]
  },
  {
   "cell_type": "markdown",
   "metadata": {},
   "source": [
    "Les mesures faites sur le terrain sont les suivantes : \n",
    "+ la raquette de R. Federer a frappé la balle avec $H = 2.20m$,\n",
    "+ le module de la vitesse était $v_0 = 126 km.h^{-1}$,\n",
    "+ la balle a touché le sol en $x = 18.7m$.\n",
    "\n",
    "On rappelle que $g \\simeq 9.81 m.s^{-2}$.\n",
    "\n",
    "On se demande quel angle $\\alpha$ faisait le vecteur vitesse avec l'horizontale ?"
   ]
  },
  {
   "cell_type": "markdown",
   "metadata": {},
   "source": [
    "### 1) Un tracé\n",
    "\n",
    "Réaliser un tracé de la fonction \n",
    "$$\\alpha \\mapsto -\\dfrac{g}{2} \\left(\\dfrac{x}{v_0 \\cos(\\alpha)}\\right)^2+x \\tan(\\alpha) + H$$\n",
    "pour $\\alpha$ entre $-\\dfrac{\\pi}{4}$ et $\\dfrac{\\pi}{4}$ afin de décider sur quel intervalle il serait pertinent de démarrer une dichotomie."
   ]
  },
  {
   "cell_type": "code",
   "execution_count": 8,
   "metadata": {},
   "outputs": [
    {
     "data": {
      "text/plain": [
       "[<matplotlib.lines.Line2D at 0x7f7ac38a7630>]"
      ]
     },
     "execution_count": 8,
     "metadata": {},
     "output_type": "execute_result"
    },
    {
     "data": {
      "image/png": "[encoded data removed]",
      "text/plain": [
       "<matplotlib.figure.Figure at 0x7f7ac34f8cf8>"
      ]
     },
     "metadata": {},
     "output_type": "display_data"
    }
   ],
   "source": [
    "def federer(alpha):\n",
    "    return -(9.81/2)*(18.7/(126*cos(alpha)))**2+18.7*tan(alpha)+2.20\n",
    "\n",
    "x = linspace(-pi/4, pi/4)\n",
    "plot(x, federer(x))"
   ]
  },
  {
   "cell_type": "markdown",
   "metadata": {},
   "source": [
    "### 2) Localisation de la racine par dichotomie"
   ]
  },
  {
   "cell_type": "code",
   "execution_count": 9,
   "metadata": {},
   "outputs": [
    {
     "name": "stdout",
     "output_type": "stream",
     "text": [
      "-0.11658253987930872\n"
     ]
    }
   ],
   "source": [
    "print(dicho(federer, -pi/4, pi/4, 0.01))"
   ]
  },
  {
   "cell_type": "markdown",
   "metadata": {},
   "source": [
    "### 3) Approximation précise de l'angle par la méthode de Newton"
   ]
  },
  {
   "cell_type": "code",
   "execution_count": 11,
   "metadata": {},
   "outputs": [],
   "source": [
    "def dfederer(a):\n",
    "    return (-9.81/2)*2*18.7*tan(a)*(18.7/126000*cos(a))+18.7+tan(a)**2\n",
    "\n",
    "def dfederer(a):\n",
    "    -9.81*(18.7**2)"
   ]
  },
  {
   "cell_type": "markdown",
   "metadata": {},
   "source": [
    "## Recherche de toutes les racines d'une fonction\n",
    "\n",
    "On cherche ici à déterminer toutes les solutions de l'équation $f(x) = 0$ sur un intervalle $[c,d]$."
   ]
  },
  {
   "cell_type": "markdown",
   "metadata": {},
   "source": [
    "Ecrire une fonction **localise(f,c,d,mu)** qui localise, par discrétisation, toutes les racines de **f** à **mu** près entre **c** et **d**, en évaluant **f** aux bornes de chaque sous-intervalle de longueur **mu**.\n",
    "\n",
    "On admettra que si **f** est de même signe aux extrémités d'un sous-intervalle de longueur **mu**, alors **f** ne s'annule pas dans ce sous-intervalle.\n",
    "\n",
    "Cette fonction retournera deux tableaux **deb** et **fin**. Le premier contiendra les bornes gauches des sous-intervalles contenant une racine de **f**. Le second contiendra les bornes droites correspondantes."
   ]
  },
  {
   "cell_type": "code",
   "execution_count": 24,
   "metadata": {},
   "outputs": [],
   "source": [
    "def localise(f, c, d, mu):\n",
    "    deb = []\n",
    "    fin = []    \n",
    "    while c+mu <= d:\n",
    "        if f(c)*f(c+mu) < 0:\n",
    "            deb.append(c)\n",
    "            fin.append(c+mu)\n",
    "        c += mu\n",
    "    return deb ,fin"
   ]
  },
  {
   "cell_type": "code",
   "execution_count": 25,
   "metadata": {},
   "outputs": [],
   "source": [
    "def toutes_racines(f, df, c, d, mu, epsx, epsf):\n",
    "    loca = localise(f, c, d, mu)\n",
    "    liste_racine = []\n",
    "    for i in range(len(loca[0])):\n",
    "        milieuLoca = (loca[0][i]+loca[1][i])/2    \n",
    "        liste_racine.append(newton(f, df, milieuLoca, epsx, epsf))\n",
    "    return liste_racine"
   ]
  },
  {
   "cell_type": "markdown",
   "metadata": {},
   "source": [
    "Tester la fonction **toutes_racines** avec la fonction $f(x) = x^3-4x+1$ sur $[-10,10]$. \n",
    "\n",
    "On pourra prendre **mu = 0.5** et **epsx = epsf = **$10^{-12}$."
   ]
  },
  {
   "cell_type": "code",
   "execution_count": 26,
   "metadata": {},
   "outputs": [
    {
     "name": "stdout",
     "output_type": "stream",
     "text": [
      "[-2.114907541476756, 0.2541016883650524, 1.8608058531117035]\n"
     ]
    }
   ],
   "source": [
    "def f9(x):\n",
    "    return x**3-4*x+1\n",
    "def df9(x):\n",
    "    return 3*x**2 -4\n",
    "gggg = 10**-12\n",
    "print(toutes_racines(f9, df9, -10, 10, 0.5, gggg, gggg))"
   ]
  },
  {
   "cell_type": "markdown",
   "metadata": {
    "collapsed": true
   },
   "source": [
    "## Pour les plus joueurs d'entre vous ...\n",
    "\n",
    "vous pouvez aller tester les méthodes ci-dessus en jouant :\n",
    "\n",
    "https://www.codingame.com/ide/puzzle/shadows-of-the-knight-episode-1\n",
    "\n",
    "https://www.codingame.com/ide/puzzle/shadows-of-the-knight-episode-2"
   ]
  }
 ],
 "metadata": {
  "kernelspec": {
   "display_name": "Python 3",
   "language": "python",
   "name": "python3"
  },
  "language_info": {
   "codemirror_mode": {
    "name": "ipython",
    "version": 3
   },
   "file_extension": ".py",
   "mimetype": "text/x-python",
   "name": "python",
   "nbconvert_exporter": "python",
   "pygments_lexer": "ipython3",
   "version": "3.7.3"
  }
 },
 "nbformat": 4,
 "nbformat_minor": 1
}
