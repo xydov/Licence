{
 "cells": [
  {
   "cell_type": "markdown",
   "metadata": {},
   "source": [
    "# Interpolation polynomiale"
   ]
  },
  {
   "cell_type": "code",
   "execution_count": 1,
   "metadata": {},
   "outputs": [
    {
     "name": "stdout",
     "output_type": "stream",
     "text": [
      "Populating the interactive namespace from numpy and matplotlib\n"
     ]
    }
   ],
   "source": [
    "%pylab inline\n",
    "import time"
   ]
  },
  {
   "cell_type": "markdown",
   "metadata": {},
   "source": [
    "## 1 - Comparaison de deux méthodes d'évaluation de polynômes\n",
    "\n",
    "\n",
    "### Méthode naïve\n",
    "On veut évaluer, en un $c$ donné, le polynôme $p$ défini par \n",
    "$$\n",
    "p(x) = a_0 + a_1 x +a_2 x^2 + ... + a_{n-1} x^{n-1}+  a_n x^n.\n",
    "$$\n",
    "\n",
    "**Question **: étant donnés un réel $c$ et une liste $a = [a_0, a_1, a_2, ..., a_{n-1}, a_n]$, écrire une fonction **p1(c,a)** qui prend comme arguments **c** et **a** et qui calcule $p(c)$ le plus naïvement possible.\n",
    "\n",
    "On pourra vérifier que l'évaluation de $p(x) = 1+2x+3x^2$ en $c = 5$ vaut $86$."
   ]
  },
  {
   "cell_type": "code",
   "execution_count": 9,
   "metadata": {},
   "outputs": [
    {
     "name": "stdout",
     "output_type": "stream",
     "text": [
      "86\n"
     ]
    }
   ],
   "source": [
    "def p1(x, a):\n",
    "    result = 0\n",
    "    taille_a = len(a)\n",
    "    for i in range(taille_a):\n",
    "        result += (x**i)*a[i]\n",
    "    return result\n",
    "print(p1(5, (1, 2, 3)))"
   ]
  },
  {
   "cell_type": "markdown",
   "metadata": {},
   "source": [
    "### Algorithme de Hörner\n",
    "\n",
    "On rappelle l'algorithme de Hörner vu en TD : si on définit la suite $(b_k)_{k = 0, ..., n}$ par\n",
    "$$\n",
    "\\left\\{\n",
    "\\begin{array}{rcll}\n",
    "b_n & = & a_n\\\\\n",
    "b_k & = & b_{k+1} c +a_k & \\forall k = n-1, n-2, ..., 1, 0.\n",
    "\\end{array}\n",
    "\\right.\n",
    "$$\n",
    "On peut montrer que $p(x) = (x-c)(b_n x^{n-1}+b_{n-1}x^{n-2}+...+b_2 x+b_1)+b_0$ et donc que $p(c) = b_0$.\n",
    "\n",
    "**Question **: étant donnés un réel $c$ et une liste $a = [a_0, a_1, a_2, ..., a_{n-1}, a_n]$, écrire une fonction **p2(c,a)** qui prend comme arguments **c** et **a** et qui calcule $p(c)$ en utilisant l'algorithme de Hörner."
   ]
  },
  {
   "cell_type": "code",
   "execution_count": 27,
   "metadata": {},
   "outputs": [
    {
     "name": "stdout",
     "output_type": "stream",
     "text": [
      "86\n"
     ]
    }
   ],
   "source": [
    "def p2(x, a):\n",
    "    result = 0\n",
    "    tailleA = len(a)\n",
    "    i = tailleA - 2\n",
    "    b = a[tailleA-1]\n",
    "    while i>=0:\n",
    "        result = b*x+a[i]\n",
    "        i -= 1\n",
    "        b = result\n",
    "    return result\n",
    "print(p2(5, (1, 2, 3)))"
   ]
  },
  {
   "cell_type": "markdown",
   "metadata": {},
   "source": [
    "### Comparaison\n",
    "\n",
    "Dans le code ci-dessous, on compare les temps de calcul, en un vecteur $c$ de taille $1000$, des deux algorithmes précédents (naïf et Hörner) pour des degrés de polynôme croissants. Qu'en concluez-vous ?"
   ]
  },
  {
   "cell_type": "code",
   "execution_count": 31,
   "metadata": {},
   "outputs": [
    {
     "data": {
      "text/plain": [
       "Text(0,0.5,\"temps d'évaluation du polynôme, en secondes\")"
      ]
     },
     "execution_count": 31,
     "metadata": {},
     "output_type": "execute_result"
    },
    {
     "data": {
      "image/png": "[encoded data removed]",
      "text/plain": [
       "<matplotlib.figure.Figure at 0x7efcd82f7b70>"
      ]
     },
     "metadata": {},
     "output_type": "display_data"
    }
   ],
   "source": [
    "c = rand(1000,1)\n",
    "tps1 = []\n",
    "tps2 = []\n",
    "abscisses = []\n",
    "for n in range(1,10,1):\n",
    "    abscisses.append(n)\n",
    "    atest = rand(n,1)\n",
    "    \n",
    "    deb = time.time()\n",
    "    val1 = p1(c,atest)\n",
    "    tps1.append(time.time()-deb)\n",
    "    \n",
    "    deb = time.time()\n",
    "    val2 = p2(c,atest)\n",
    "    tps2.append(time.time()-deb)\n",
    "for n in range(10,100,10):\n",
    "    abscisses.append(n)\n",
    "    atest = rand(n,1)\n",
    "    \n",
    "    deb = time.time()\n",
    "    val1 = p1(c,atest)\n",
    "    tps1.append(time.time()-deb)\n",
    "    \n",
    "    deb = time.time()\n",
    "    val2 = p2(c,atest)\n",
    "    tps2.append(time.time()-deb)\n",
    "for n in range(100,1000,100):\n",
    "    abscisses.append(n)\n",
    "    atest = rand(n,1)\n",
    "    \n",
    "    deb = time.time()\n",
    "    val1 = p1(c,atest)\n",
    "    tps1.append(time.time()-deb)\n",
    "    \n",
    "    deb = time.time()\n",
    "    val2 = p2(c,atest)\n",
    "    tps2.append(time.time()-deb)\n",
    "\n",
    "plot(abscisses,tps1,color='b')\n",
    "plot(abscisses,tps2,color='r')\n",
    "xlabel(\"degré du polynôme\")\n",
    "ylabel(\"temps d'évaluation du polynôme, en secondes\")"
   ]
  },
  {
   "cell_type": "markdown",
   "metadata": {},
   "source": [
    "## 2 - Quelques préliminaires\n",
    "\n",
    "\n",
    "### Subdivision régulière\n",
    "\n",
    "**Question** : écrire une fonction **equirep** qui prend $a$, $b$ et $d$ comme arguments et qui produit $d+1$ points $a_0 = a$, $a_1$, ..., $a_d = b$ équirépartis dans l'intervalle $[a,b]$.\n",
    "\n",
    "Vérifier que **equirep(-1,1,5)** retourne **[-1.  -0.6 -0.2  0.2  0.6  1. ]**."
   ]
  },
  {
   "cell_type": "code",
   "execution_count": 40,
   "metadata": {},
   "outputs": [
    {
     "name": "stdout",
     "output_type": "stream",
     "text": [
      "[-1, -0.6, -0.19999999999999996, 0.20000000000000007, 0.6000000000000001, 1]\n"
     ]
    }
   ],
   "source": [
    "def equirep(a, b, d):\n",
    "    lstFin = []\n",
    "    nbValInter = b - a\n",
    "    inc = nbValInter / (d)\n",
    "    lstFin.insert(0, a)\n",
    "    for i in range(d-1):\n",
    "        a += inc\n",
    "        lstFin.append(a)\n",
    "    lstFin.append(b)\n",
    "    return lstFin\n",
    "print(equirep(-1 ,1 ,5))\n",
    "    "
   ]
  },
  {
   "cell_type": "markdown",
   "metadata": {},
   "source": [
    "### Une première fonction test\n",
    "\n",
    "**Question** : écrire une fonction **jolie** qui, étant donné un vecteur $x$, retourne le vecteur des images de chaque composante de $x$ par la fonction $f$ définie sur $\\mathbb{R}$ par $f(x) = x\\sin(\\pi x).$\n",
    "\n",
    "On pourra vérifier que **jolie([-1.5,0,1.5,2]) = [ -1.50000000e+00   0.00000000e+00  -1.50000000e+00  -4.89858720e-16]**."
   ]
  },
  {
   "cell_type": "code",
   "execution_count": 43,
   "metadata": {},
   "outputs": [
    {
     "name": "stdout",
     "output_type": "stream",
     "text": [
      "[-1.5, 0.0, -1.5, -4.898587196589413e-16]\n"
     ]
    }
   ],
   "source": [
    "def jolie(x):\n",
    "    tailleLst = len(x)\n",
    "    for i in range(tailleLst):\n",
    "        x[i] = x[i]*sin(pi*x[i])\n",
    "    return x\n",
    "print(jolie([-1.5,0,1.5,2]))"
   ]
  },
  {
   "cell_type": "markdown",
   "metadata": {},
   "source": [
    "**Question** : En utilisant **equirep** et **jolie**, tracer en bleu la fonction $f$ sur l'intervalle $[-1.5,1.5]$. On veillera à utiliser suffisamment de points pour que le tracé soit bien lisse."
   ]
  },
  {
   "cell_type": "code",
   "execution_count": 47,
   "metadata": {},
   "outputs": [],
   "source": [
    "abscisse = equirep(-1.5, 1.5, 10)\n",
    "# add ordonées"
   ]
  },
  {
   "cell_type": "markdown",
   "metadata": {},
   "source": [
    "### Une seconde fonction test\n",
    "\n",
    "**Question** : écrire une fonction **cloche** qui, étant donné un vecteur $x$, retourne le vecteur des images de chaque composante de $x$ par la fonction $g$ définie sur $\\mathbb{R}$ par\n",
    "$$\n",
    "g(x) = \\dfrac{1}{1+100 x^2}.\n",
    "$$\n",
    "\n",
    "On pourra vérifier que **cloche([-1,0,1,2]) = [ 0.00990099  1.          0.00990099  0.00249377]**."
   ]
  },
  {
   "cell_type": "code",
   "execution_count": null,
   "metadata": {},
   "outputs": [],
   "source": []
  },
  {
   "cell_type": "markdown",
   "metadata": {},
   "source": [
    "**Question** : En utilisant **equirep** et **cloche**, tracer en rouge la fonction $g$ sur l'intervalle $[-1.5,1.5]$. On veillera à utiliser suffisamment de points pour que le tracé soit bien lisse."
   ]
  },
  {
   "cell_type": "code",
   "execution_count": null,
   "metadata": {},
   "outputs": [],
   "source": []
  },
  {
   "cell_type": "markdown",
   "metadata": {},
   "source": [
    "## 3 - Construction de la forme de Lagrange du polynôme d'interpolation\n",
    "\n",
    "On rappelle que l'unique polynôme $p$ de degré $\\leq d$ tel que \n",
    "$p(a_i) = f_i$, $\\forall i = 0, ..., d$, \n",
    "est donné, $\\forall x \\in \\mathbb{R}$, par la formule\n",
    "$$\n",
    "p(x) = \\sum_{j = 0}^{d} f_{j} l_{j,d}(x) \n",
    "\\mbox{ avec } \n",
    "l_{j,d}(x) = \\prod_{\\stackrel{k = 0}{k\\neq j}}^{d} \\dfrac{x-a_k}{a_j-a_k}.\n",
    "$$\n",
    "\n",
    "**Question** : écrire une fonction **lagrange** qui prend un réel $c$ et 2 vecteurs $avec$ (contenant les abscisses $a_i$) et $fvec$ (contenant les ordonnées $f_i$) comme arguments d'entrée et qui produit le réel $p(c)$. \n",
    "    \n",
    "On testera cette fonction avec $avec = [0,1,2]$ et $fvec = [0,1,4]$.\n",
    "On vérifiera que **lagrange(avec[i],avec,fvec)** retourne $fvec[i]$ pour $i = 0,1,2$."
   ]
  },
  {
   "cell_type": "code",
   "execution_count": null,
   "metadata": {},
   "outputs": [],
   "source": []
  },
  {
   "cell_type": "markdown",
   "metadata": {},
   "source": [
    "**Question** : écrire une fonction **trace_e** qui, pour les arguments d'entrée $a$, $b$, $d$ et **nom_fonction**, trace sur un même graphique la fonction **nom_fonction** **en rouge**, les points d'interpolation **en noir** et le polynôme d'interpolation aux points équidistants **en bleu** sur l'intervalle $[a,b]$. \n",
    "\n",
    "On pourra tester cette fonction avec $a = -1$, $b = 1$ et **jolie**, en faisant varier $d$ pour observer ce qui se passe."
   ]
  },
  {
   "cell_type": "code",
   "execution_count": null,
   "metadata": {},
   "outputs": [],
   "source": []
  },
  {
   "cell_type": "markdown",
   "metadata": {},
   "source": [
    "**Question** : tester maintenant **trace_e** avec $a = -1$, $b = 1$ et **cloche**, en faisant varier $d$ pour observer ce qui se passe."
   ]
  },
  {
   "cell_type": "code",
   "execution_count": null,
   "metadata": {},
   "outputs": [],
   "source": []
  },
  {
   "cell_type": "markdown",
   "metadata": {},
   "source": [
    "## 4 - Points de Chebyshev"
   ]
  },
  {
   "cell_type": "markdown",
   "metadata": {},
   "source": [
    "Les points de Chebyshev dans l'intervalle $[a,b]$ sont donnés par la formule suivante : \n",
    "$$\n",
    "a_i = \\dfrac{a+b}{2}+\\dfrac{b-a}{2}\\cos\\left(\\dfrac{2i+1}{2(d+1)}\\pi\\right), \n",
    "\\quad i = 0, ..., d.\n",
    "$$\n",
    "\n",
    "**Question** : écrire une fonction **cheb** qui prend $a$, $b$ et $d$ comme arguments et qui produit les $d+1$ points de Chebyshev dans l'intervalle $[a,b]$.\n",
    "\n",
    "Vérifier que **cheb(-1,1,5)** retourne **[-0.96592583 -0.70710678 -0.25881905  0.25881905  0.70710678  0.96592583]**."
   ]
  },
  {
   "cell_type": "code",
   "execution_count": null,
   "metadata": {},
   "outputs": [],
   "source": []
  },
  {
   "cell_type": "markdown",
   "metadata": {},
   "source": [
    "**Question** : tracer les deux suvdivisions de l'intervalle $[5,10]$ de 2 couleurs différentes, afin de comprendre la différence entre les deux."
   ]
  },
  {
   "cell_type": "code",
   "execution_count": null,
   "metadata": {},
   "outputs": [],
   "source": []
  },
  {
   "cell_type": "markdown",
   "metadata": {},
   "source": [
    "**Question** : écrire une fonction **trace_c** qui, pour les arguments d'entrée $a$, $b$, $d$ et **nom_fonction**, trace sur un même graphique la fonction **nom_fonction** **en rouge**, les points d'interpolation **en noir** et le polynôme d'interpolation aux points de Chebyshev **en vert** sur l'intervalle $[a,b]$. \n",
    "\n",
    "On pourra tester cette fonction avec $a = -1$, $b = 1$ et **jolie**, en faisant varier $d$ pour observer ce qui se passe."
   ]
  },
  {
   "cell_type": "code",
   "execution_count": null,
   "metadata": {},
   "outputs": [],
   "source": []
  },
  {
   "cell_type": "markdown",
   "metadata": {},
   "source": [
    "**Question** : tester maintenant **trace_c** avec $a = -1$, $b = 1$ et **cloche**, en faisant varier $d$ pour observer ce qui se passe."
   ]
  },
  {
   "cell_type": "code",
   "execution_count": null,
   "metadata": {},
   "outputs": [],
   "source": []
  },
  {
   "cell_type": "markdown",
   "metadata": {
    "collapsed": true
   },
   "source": [
    "## 5 - Différences divisées et forme de Newton\n",
    "\n",
    "Nous allons maintenant programmer la forme de Newton du polynôme d'interpolation de Lagrange. \n",
    "\n",
    "Pour ce faire, nous allons commencer par écrire une fonction **DD** qui prend 2 vecteurs $avec$ (contenant les abscisses $a_i$) et $fvec$ (contenant les ordonnées $f_i$) comme arguments d'entrée et qui produit la matrice des différences divisées.\n",
    "\n",
    "On rappelle que les différences divisées s'obtiennent par récurrence : pour tout entier $l\\geq 1$, \n",
    "$$\n",
    "f[a_0, a_1, ..., a_l] = \\dfrac{f[a_1, a_2, ..., a_l]-f[a_0, a_1, ..., a_{l-1}]}{a_l-a_0}.\n",
    "$$"
   ]
  },
  {
   "cell_type": "code",
   "execution_count": null,
   "metadata": {
    "collapsed": true
   },
   "outputs": [],
   "source": []
  },
  {
   "cell_type": "markdown",
   "metadata": {},
   "source": [
    "On construit maintenant une fonction **newton** qui prend comme arguments d'entrée \n",
    "+ le vecteur $avec$ contenant les abscisses $a_i$, \n",
    "+ la matrice $D$ des différences divisées associées \n",
    "+ et un scalaire $c$  \n",
    "\n",
    "et qui produit le scalaire $p(c)$ en utilisant la forme de Newton du polynôme d'interpolation de Lagrange. \n",
    "\n",
    "On rappelle ci-dessous l'algorithme qui permet de calculer $P := p(c)$ connaissant $avec$, $f$, $D$ et $c$ :\n",
    "\n",
    "+ $P = 0$\n",
    "+ $\\pi = 1$\n",
    "+ Pour $j$ de $0$ à $d$ faire\n",
    "    + $P = P+D_{j,j}\\times\\pi$ \n",
    "    + $\\pi = \\pi\\times (c-a_j)$\n",
    "    \n",
    "On testera cette fonction avec $avec = [0,1,2]$ et $fvec = [0,1,4]$.\n",
    "On vérifiera que **newton(avec[i],avec,fvec)** retourne $fvec[i]$ pour $i = 0,1,2$."
   ]
  },
  {
   "cell_type": "code",
   "execution_count": null,
   "metadata": {},
   "outputs": [],
   "source": []
  },
  {
   "cell_type": "markdown",
   "metadata": {},
   "source": [
    "## 6 - Testons l'intérêt de la forme de Newton : l'ajout d'un point\n",
    "\n",
    "Illustrons maintenant l'intérêt de la forme de Newton par rapport à celle de Lagrange, en voyant ce qui doit être modifié si on ajoute un point d'interpolation, c'est à dire si $avec$ et $fvec$ sont augmentés d'une case.\n",
    "\n",
    "Pour ce faire on écrit une fonction **ajout_point(avec,fvec,D,u,v)** qui augmente \n",
    "+ le vecteur $avec$ de $u$,\n",
    "+ le vecteur $fvec$ de $v$\n",
    "+ et la matrice $D$ de la ligne correspondant à l'ajout du point d'interpolation $(u,v)$.\n",
    "\n",
    "On testera cette fonction en ajoutant l'abscisse $0.5$ au tableau $avec$ utilisé à la question précédente."
   ]
  },
  {
   "cell_type": "code",
   "execution_count": null,
   "metadata": {},
   "outputs": [],
   "source": []
  },
  {
   "cell_type": "markdown",
   "metadata": {},
   "source": [
    "On construit une fonction **newton_ap(avecnew,Dnew,P,pii,x)** qui met à jour la valeur $P$ du polynôme d'interpolation de Lagrange au point $x$ lorqu'on a ajouté le point $(u,v)$ aux points d'interpolation.\n",
    "\n",
    "On testera cette fonction en ajoutant l'abscisse $0.5$ au tableau $avec$ et en comparant la valeur des 2 polynômes d'interpolation à la réponse de cloche, précisément en cette nouvelle abscisse."
   ]
  },
  {
   "cell_type": "code",
   "execution_count": null,
   "metadata": {},
   "outputs": [],
   "source": []
  }
 ],
 "metadata": {
  "kernelspec": {
   "display_name": "Python 3",
   "language": "python",
   "name": "python3"
  },
  "language_info": {
   "codemirror_mode": {
    "name": "ipython",
    "version": 3
   },
   "file_extension": ".py",
   "mimetype": "text/x-python",
   "name": "python",
   "nbconvert_exporter": "python",
   "pygments_lexer": "ipython3",
   "version": "3.6.4"
  }
 },
 "nbformat": 4,
 "nbformat_minor": 1
}
