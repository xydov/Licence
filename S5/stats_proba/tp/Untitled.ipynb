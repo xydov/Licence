{
 "cells": [
  {
   "cell_type": "code",
   "execution_count": 1,
   "metadata": {},
   "outputs": [],
   "source": [
    "import numpy as np\n",
    "import numpy.random as loi\n",
    "import scipy.stats as loiT\n",
    "import matplotlib.pyplot as plt\n",
    "from math import sqrt, pi, exp"
   ]
  },
  {
   "cell_type": "code",
   "execution_count": 45,
   "metadata": {},
   "outputs": [
    {
     "name": "stdout",
     "output_type": "stream",
     "text": [
      "mean yE: 10.358 | mean yM: 10.423\n",
      "var yE: 14.731836000000001 | var ym: 14.098071\n",
      "Matrice de covariance:\n",
      "[[14.74658258 11.434     ]\n",
      " [11.434      14.11218318]]\n",
      "Matrice des coéficients de corrélation:\n",
      "[[1.         0.79260242]\n",
      " [0.79260242 1.        ]]\n"
     ]
    }
   ],
   "source": [
    "# 1\n",
    "X1 = np.random.randint(1, 7, size = 1000)\n",
    "X2 = np.random.randint(1, 7, size = 1000)\n",
    "# print(X2)\n",
    "\n",
    "# 2\n",
    "yE = [i + 2*j for i, j in zip(X1, X2)]\n",
    "yM = [2*i + j for i, j in zip(X1, X2)]\n",
    "\n",
    "# 3\n",
    "mean_yE = np.mean(yE)\n",
    "mean_yM = np.mean(yM)\n",
    "var_yE = np.var(yE)\n",
    "var_yM = np.var(yM)\n",
    "print(f\"mean yE: {mean_yE} | mean yM: {mean_yM}\\nvar yE: {var_yE} | var ym: {var_yM}\")\n",
    "\n",
    "# 4\n",
    "\n",
    "\n",
    "# 5\n",
    "mat_cov_yEyM = np.cov(yE, yM)\n",
    "print(f\"Matrice de covariance:\\n{mat_cov_yEyM}\")\n",
    "# les éléments mat_cov_yEyM[0][1] et mat_cov_yEyM[1][0] sont identiques et représentent la valeur de la covariance,\n",
    "# alors que les éléments mat_cov_yEyM[0][0] est la variance de yE et mat_cov_yEyM[1][1] la variance de yM\n",
    "\n",
    "\n",
    "# 6\n",
    "corr_yEyM = np.corrcoef(yE, yM)\n",
    "print(f\"Matrice des coéficients de corrélation:\\n{corr_yEyM}\")\n",
    "# corr_yEyM[0][1] et corr_yEyM[1][0] sont idnetiques et représente le coéficient de corrélation,\n",
    "# qui ici est proche de 1, donc les variables sont fortement liées\n",
    "\n",
    "# 7\n",
    "# les deux armes sont autant destructrices l'une que l'autre"
   ]
  },
  {
   "cell_type": "code",
   "execution_count": 76,
   "metadata": {},
   "outputs": [
    {
     "name": "stdout",
     "output_type": "stream",
     "text": [
      "[[1.         0.94433654]\n",
      " [0.94433654 1.        ]]\n"
     ]
    },
    {
     "data": {
      "text/plain": [
       "[<matplotlib.lines.Line2D at 0x7f0420bba280>]"
      ]
     },
     "execution_count": 76,
     "metadata": {},
     "output_type": "execute_result"
    },
    {
     "data": {
      "image/png": "[encoded data removed]",
      "text/plain": [
       "<Figure size 432x288 with 1 Axes>"
      ]
     },
     "metadata": {
      "needs_background": "light"
     },
     "output_type": "display_data"
    }
   ],
   "source": [
    "# Exercice 2:\n",
    "# 1\n",
    "Xi = np.array([7.7, 5.8, 11.5, 2.1, 3.7, 3.6])\n",
    "Yi = np.array([12, 9, 15, 4, 4, 2])\n",
    "cor_coef_x1y1 = np.corrcoef(Xi, Yi)\n",
    "print(cor_coef_x1y1)\n",
    "# Oui il existe un lien fort entre la densité et la taux de criminalité correspondant des régions ci-dessus\n",
    "# Le coéfficient de corrélation est trés proche de 1 (0.944)\n",
    "\n",
    "# 2\n",
    "vec = np.arange(0, 6)\n",
    "y_f = (np.cov(Xi, Yi)[0][1] / Xi) * (vec - np.mean(Xi)) + np.mean(Yi)\n",
    "plt.plot(Xi, Yi, \"r+\")\n",
    "plt.plot(vec, y_f, 'b', label='droite')"
   ]
  },
  {
   "cell_type": "code",
   "execution_count": 86,
   "metadata": {},
   "outputs": [
    {
     "ename": "EOFError",
     "evalue": "Ran out of input",
     "output_type": "error",
     "traceback": [
      "\u001b[0;31m---------------------------------------------------------------------------\u001b[0m",
      "\u001b[0;31mEOFError\u001b[0m                                  Traceback (most recent call last)",
      "\u001b[0;32m<ipython-input-86-3beb1cd6779a>\u001b[0m in \u001b[0;36m<module>\u001b[0;34m\u001b[0m\n\u001b[1;32m      3\u001b[0m \u001b[0mf\u001b[0m \u001b[0;34m=\u001b[0m \u001b[0mopen\u001b[0m\u001b[0;34m(\u001b[0m\u001b[0;34m'exam_tp2020_ay.pkl'\u001b[0m\u001b[0;34m,\u001b[0m \u001b[0;34m'rb'\u001b[0m\u001b[0;34m)\u001b[0m\u001b[0;34m\u001b[0m\u001b[0;34m\u001b[0m\u001b[0m\n\u001b[1;32m      4\u001b[0m \u001b[0mloi\u001b[0m \u001b[0;34m=\u001b[0m \u001b[0mpickle\u001b[0m\u001b[0;34m.\u001b[0m\u001b[0mload\u001b[0m\u001b[0;34m(\u001b[0m\u001b[0mf\u001b[0m\u001b[0;34m)\u001b[0m\u001b[0;34m\u001b[0m\u001b[0;34m\u001b[0m\u001b[0m\n\u001b[0;32m----> 5\u001b[0;31m \u001b[0ml1\u001b[0m \u001b[0;34m=\u001b[0m \u001b[0mpickle\u001b[0m\u001b[0;34m.\u001b[0m\u001b[0mload\u001b[0m\u001b[0;34m(\u001b[0m\u001b[0mf\u001b[0m\u001b[0;34m)\u001b[0m\u001b[0;34m\u001b[0m\u001b[0;34m\u001b[0m\u001b[0m\n\u001b[0m\u001b[1;32m      6\u001b[0m \u001b[0mprint\u001b[0m\u001b[0;34m(\u001b[0m\u001b[0mnp\u001b[0m\u001b[0;34m.\u001b[0m\u001b[0mmean\u001b[0m\u001b[0;34m(\u001b[0m\u001b[0mloi\u001b[0m\u001b[0;34m)\u001b[0m\u001b[0;34m)\u001b[0m\u001b[0;34m\u001b[0m\u001b[0;34m\u001b[0m\u001b[0m\n\u001b[1;32m      7\u001b[0m \u001b[0mprint\u001b[0m\u001b[0;34m(\u001b[0m\u001b[0mnp\u001b[0m\u001b[0;34m.\u001b[0m\u001b[0mvar\u001b[0m\u001b[0;34m(\u001b[0m\u001b[0mloi\u001b[0m\u001b[0;34m)\u001b[0m\u001b[0;34m,\u001b[0m \u001b[0;34m\"\\n\"\u001b[0m\u001b[0;34m)\u001b[0m\u001b[0;34m\u001b[0m\u001b[0;34m\u001b[0m\u001b[0m\n",
      "\u001b[0;31mEOFError\u001b[0m: Ran out of input"
     ]
    }
   ],
   "source": [
    "import pickle\n",
    "\n",
    "f = open('exam_tp2020_ay.pkl', 'rb')\n",
    "loi = pickle.load(f)\n",
    "\n",
    "print(np.mean(loi))\n",
    "print(np.var(loi), \"\\n\")\n",
    "print(np.max(loi))\n",
    "print(np.min(loi))\n",
    "\n",
    "plt.hist(loi, bins=120)\n",
    "plt.show()\n",
    "f.close()\n"
   ]
  },
  {
   "cell_type": "code",
   "execution_count": 91,
   "metadata": {},
   "outputs": [
    {
     "name": "stdout",
     "output_type": "stream",
     "text": [
      "0.0093297787564316\n",
      "1.0034527718564004 \n",
      "\n",
      "3.7896387944826833\n",
      "-4.43673409816843\n"
     ]
    },
    {
     "data": {
      "image/png": "[encoded data removed]",
      "text/plain": [
       "<Figure size 432x288 with 1 Axes>"
      ]
     },
     "metadata": {
      "needs_background": "light"
     },
     "output_type": "display_data"
    }
   ],
   "source": [
    "import pickle\n",
    "f = open('exam_tp2020_ap.pkl', 'rb')\n",
    "loi = pickle.load(f)\n",
    "\n",
    "print(np.mean(loi))\n",
    "print(np.var(loi), \"\\n\")\n",
    "print(np.max(loi))\n",
    "print(np.min(loi))\n",
    "\n",
    "plt.hist(loi, bins=120)\n",
    "plt.show()\n",
    "f.close()"
   ]
  },
  {
   "cell_type": "code",
   "execution_count": 90,
   "metadata": {},
   "outputs": [
    {
     "name": "stdout",
     "output_type": "stream",
     "text": [
      "3.3618\n",
      "7.737300760000001 \n",
      "\n",
      "29\n",
      "1\n"
     ]
    },
    {
     "data": {
      "image/png": "[encoded data removed]",
      "text/plain": [
       "<Figure size 432x288 with 1 Axes>"
      ]
     },
     "metadata": {
      "needs_background": "light"
     },
     "output_type": "display_data"
    }
   ],
   "source": [
    "import pickle\n",
    "f = open('exam_tp2020_bc.pkl', 'rb')\n",
    "loi = pickle.load(f)\n",
    "\n",
    "print(np.mean(loi))\n",
    "print(np.var(loi), \"\\n\")\n",
    "print(np.max(loi))\n",
    "print(np.min(loi))\n",
    "\n",
    "plt.hist(loi, bins=120)\n",
    "plt.show()\n",
    "f.close()"
   ]
  },
  {
   "cell_type": "code",
   "execution_count": 92,
   "metadata": {},
   "outputs": [
    {
     "name": "stdout",
     "output_type": "stream",
     "text": [
      "5.0047\n",
      "4.9788779100000005 \n",
      "\n",
      "15\n",
      "0\n"
     ]
    },
    {
     "data": {
      "image/png": "[encoded data removed]",
      "text/plain": [
       "<Figure size 432x288 with 1 Axes>"
      ]
     },
     "metadata": {
      "needs_background": "light"
     },
     "output_type": "display_data"
    }
   ],
   "source": [
    "f = open('exam_tp2020_e.pkl', 'rb')\n",
    "loi = pickle.load(f)\n",
    "\n",
    "print(np.mean(loi))\n",
    "print(np.var(loi), \"\\n\")\n",
    "print(np.max(loi))\n",
    "print(np.min(loi))\n",
    "\n",
    "plt.hist(loi, bins=120)\n",
    "plt.show()\n",
    "f.close()"
   ]
  },
  {
   "cell_type": "code",
   "execution_count": 95,
   "metadata": {},
   "outputs": [
    {
     "name": "stdout",
     "output_type": "stream",
     "text": [
      "2.0054534710351692\n",
      "1.3373126878874428 \n",
      "\n",
      "3.9998965036891265\n",
      "0.00012766546978548732\n"
     ]
    },
    {
     "data": {
      "image/png": "[encoded data removed]",
      "text/plain": [
       "<Figure size 432x288 with 1 Axes>"
      ]
     },
     "metadata": {
      "needs_background": "light"
     },
     "output_type": "display_data"
    }
   ],
   "source": [
    "f = open('exam_tp2020_z.pkl', 'rb')\n",
    "loi = pickle.load(f)\n",
    "\n",
    "print(np.mean(loi))\n",
    "print(np.var(loi), \"\\n\")\n",
    "print(np.max(loi))\n",
    "print(np.min(loi))\n",
    "\n",
    "plt.hist(loi, bins=500)\n",
    "plt.show()\n",
    "f.close()"
   ]
  },
  {
   "cell_type": "code",
   "execution_count": 99,
   "metadata": {},
   "outputs": [
    {
     "name": "stdout",
     "output_type": "stream",
     "text": [
      "12.0503\n",
      "8.357569909999999 \n",
      "\n",
      "23\n",
      "3\n"
     ]
    },
    {
     "data": {
      "image/png": "[encoded data removed]",
      "text/plain": [
       "<Figure size 432x288 with 1 Axes>"
      ]
     },
     "metadata": {
      "needs_background": "light"
     },
     "output_type": "display_data"
    }
   ],
   "source": [
    "f = open('exam_tp2020_bk.pkl', 'rb')\n",
    "loi = pickle.load(f)\n",
    "\n",
    "print(np.mean(loi))\n",
    "print(np.var(loi), \"\\n\")\n",
    "print(np.max(loi))\n",
    "print(np.min(loi))\n",
    "\n",
    "plt.hist(loi, bins=100)\n",
    "plt.show()\n",
    "f.close()"
   ]
  },
  {
   "cell_type": "code",
   "execution_count": 101,
   "metadata": {},
   "outputs": [
    {
     "name": "stdout",
     "output_type": "stream",
     "text": [
      "-49.8002\n",
      "829.32367996 \n",
      "\n",
      "0\n",
      "-100\n"
     ]
    },
    {
     "data": {
      "image/png": "[encoded data removed]",
      "text/plain": [
       "<Figure size 432x288 with 1 Axes>"
      ]
     },
     "metadata": {
      "needs_background": "light"
     },
     "output_type": "display_data"
    }
   ],
   "source": [
    "f = open('exam_tp2020_an.pkl', 'rb')\n",
    "loi = pickle.load(f)\n",
    "\n",
    "print(np.mean(loi))\n",
    "print(np.var(loi), \"\\n\")\n",
    "print(np.max(loi))\n",
    "print(np.min(loi))\n",
    "\n",
    "plt.hist(loi, bins=500)\n",
    "plt.show()\n",
    "f.close()"
   ]
  },
  {
   "cell_type": "code",
   "execution_count": 102,
   "metadata": {},
   "outputs": [
    {
     "name": "stdout",
     "output_type": "stream",
     "text": [
      "0.5755679395034056\n",
      "0.3235909481497817 \n",
      "\n",
      "5.21459981499947\n",
      "1.9645219022082313e-05\n"
     ]
    },
    {
     "data": {
      "image/png": "[encoded data removed]",
      "text/plain": [
       "<Figure size 432x288 with 1 Axes>"
      ]
     },
     "metadata": {
      "needs_background": "light"
     },
     "output_type": "display_data"
    }
   ],
   "source": [
    "f = open('exam_tp2020_q.pkl', 'rb')\n",
    "loi = pickle.load(f)\n",
    "\n",
    "print(np.mean(loi))\n",
    "print(np.var(loi), \"\\n\")\n",
    "print(np.max(loi))\n",
    "print(np.min(loi))\n",
    "\n",
    "plt.hist(loi, bins=500)\n",
    "plt.show()\n",
    "f.close()"
   ]
  },
  {
   "cell_type": "code",
   "execution_count": null,
   "metadata": {},
   "outputs": [],
   "source": []
  }
 ],
 "metadata": {
  "kernelspec": {
   "display_name": "Python 3",
   "language": "python",
   "name": "python3"
  },
  "language_info": {
   "codemirror_mode": {
    "name": "ipython",
    "version": 3
   },
   "file_extension": ".py",
   "mimetype": "text/x-python",
   "name": "python",
   "nbconvert_exporter": "python",
   "pygments_lexer": "ipython3",
   "version": "3.8.3"
  }
 },
 "nbformat": 4,
 "nbformat_minor": 4
}
