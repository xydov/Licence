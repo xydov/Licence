{
 "cells": [
  {
   "cell_type": "markdown",
   "metadata": {},
   "source": [
    "### tp2"
   ]
  },
  {
   "cell_type": "markdown",
   "metadata": {},
   "source": [
    "* Coucou tiret\n",
    "mdrlol\n",
    "$$\\sum_{i=0}^{20}x^2$$"
   ]
  },
  {
   "cell_type": "code",
   "execution_count": 2,
   "metadata": {},
   "outputs": [],
   "source": [
    "import numpy as np\n",
    "import numpy.random as loi\n",
    "import scipy.stats as loiT\n",
    "import matplotlib.pyplot as plt\n",
    "from math import sqrt, pi, exp"
   ]
  },
  {
   "cell_type": "code",
   "execution_count": 6,
   "metadata": {},
   "outputs": [],
   "source": [
    "a = loi.uniform(10, 20, size=1000)\n",
    "b = loi.uniform(10, 20, size=10000)\n",
    "c = loi.uniform(10, 20, size=100000)"
   ]
  },
  {
   "cell_type": "code",
   "execution_count": 7,
   "metadata": {},
   "outputs": [
    {
     "data": {
      "text/plain": [
       "8.620170865215089"
      ]
     },
     "execution_count": 7,
     "metadata": {},
     "output_type": "execute_result"
    }
   ],
   "source": [
    "np.var(a)"
   ]
  },
  {
   "cell_type": "code",
   "execution_count": 8,
   "metadata": {},
   "outputs": [
    {
     "data": {
      "text/plain": [
       "8.277631767548481"
      ]
     },
     "execution_count": 8,
     "metadata": {},
     "output_type": "execute_result"
    }
   ],
   "source": [
    "np.var(b)"
   ]
  },
  {
   "cell_type": "code",
   "execution_count": 9,
   "metadata": {},
   "outputs": [
    {
     "data": {
      "text/plain": [
       "8.350083918394187"
      ]
     },
     "execution_count": 9,
     "metadata": {},
     "output_type": "execute_result"
    }
   ],
   "source": [
    "np.var(c)"
   ]
  },
  {
   "cell_type": "code",
   "execution_count": 15,
   "metadata": {},
   "outputs": [
    {
     "name": "stdout",
     "output_type": "stream",
     "text": [
      "14.902101347002095  |  15.013453911296924  |  15.02380988683367\n"
     ]
    }
   ],
   "source": [
    "print(np.mean(a), \" | \", np.mean(b), \" | \", np.mean(c))"
   ]
  },
  {
   "cell_type": "code",
   "execution_count": 26,
   "metadata": {},
   "outputs": [
    {
     "name": "stdout",
     "output_type": "stream",
     "text": [
      "15.0\n",
      "8.333333333333334\n"
     ]
    }
   ],
   "source": [
    "densite = 1 / (20 - 10)\n",
    "esp_th = (10 + 20) / 2\n",
    "print(esp_th)\n",
    "var_th = (20 - 10)**2 / 12\n",
    "print(var_th)"
   ]
  },
  {
   "cell_type": "code",
   "execution_count": 35,
   "metadata": {},
   "outputs": [],
   "source": [
    "# 4.a.\n",
    "n_a = loi.normal(0, 1, size=1000)\n",
    "n_b = loi.normal(0, 1, size=10000)\n",
    "n_c = loi.normal(0, 1, size=100000)"
   ]
  },
  {
   "cell_type": "code",
   "execution_count": 40,
   "metadata": {},
   "outputs": [
    {
     "name": "stdout",
     "output_type": "stream",
     "text": [
      "0.9911162857904345  |  0.982304265474278  |  1.0017825688880215\n",
      "variance théorique = 1\n",
      "-0.012759149454019464  |  0.006223571495477751  |  -0.00011823658605747482\n",
      "moyenne théorique = 0\n"
     ]
    }
   ],
   "source": [
    "print(np.var(n_a), \" | \", np.var(n_b), \" | \", np.var(n_c))\n",
    "print(\"variance théorique = 1\")\n",
    "print(np.mean(n_a), \" | \", np.mean(n_b), \" | \", np.mean(n_c))\n",
    "print(\"moyenne théorique = 0\")"
   ]
  },
  {
   "cell_type": "code",
   "execution_count": 42,
   "metadata": {},
   "outputs": [],
   "source": [
    "# 4.b.\n",
    "e_a = loi.exponential(1 / 0.5, size=1000)\n",
    "e_b = loi.exponential(1 / 0.5, size=10000)\n",
    "e_c = loi.exponential(1 / 0.5, size=100000)"
   ]
  },
  {
   "cell_type": "code",
   "execution_count": 43,
   "metadata": {},
   "outputs": [
    {
     "name": "stdout",
     "output_type": "stream",
     "text": [
      "3.523557878566814  |  4.055904151176283  |  4.056740039033487\n",
      "variance théorique =  4.0\n",
      "1.9129348567955633  |  2.015478229579742  |  2.002672075870385\n",
      "moyenne théorique =  2.0\n"
     ]
    }
   ],
   "source": [
    "print(np.var(e_a), \" | \", np.var(e_b), \" | \", np.var(e_c))\n",
    "print(\"variance théorique = \", 1 / (0.5*0.5))\n",
    "print(np.mean(e_a), \" | \", np.mean(e_b), \" | \", np.mean(e_c))\n",
    "print(\"moyenne théorique = \", 1 / 0.5)"
   ]
  },
  {
   "cell_type": "markdown",
   "metadata": {},
   "source": [
    "## Exercice 3"
   ]
  },
  {
   "cell_type": "code",
   "execution_count": 99,
   "metadata": {},
   "outputs": [],
   "source": [
    "X = loi.normal(0, 1, size=1000)\n",
    "Y = loi.uniform(10, 20, size=1000)\n",
    "Z = loi.uniform(0, 1, size=1000)"
   ]
  },
  {
   "cell_type": "code",
   "execution_count": 100,
   "metadata": {},
   "outputs": [
    {
     "name": "stdout",
     "output_type": "stream",
     "text": [
      "[[1.00174744 0.10143786]\n",
      " [0.10143786 8.02024369]] \n",
      "\n",
      " [[1.00174744 0.01130255]\n",
      " [0.01130255 0.08088103]] \n",
      "\n",
      " [[ 8.02024369 -0.02696676]\n",
      " [-0.02696676  0.08088103]]\n"
     ]
    }
   ],
   "source": [
    "print(np.cov(X, Y), \"\\n\\n\", np.cov(X, Z), \"\\n\\n\", np.cov(Y, Z))"
   ]
  },
  {
   "cell_type": "markdown",
   "metadata": {},
   "source": [
    "## Exercice 4"
   ]
  },
  {
   "cell_type": "code",
   "execution_count": 65,
   "metadata": {},
   "outputs": [
    {
     "name": "stdout",
     "output_type": "stream",
     "text": [
      "[[1.         0.34030276]\n",
      " [0.34030276 1.        ]] \n",
      "\n",
      " [[1.         0.98230662]\n",
      " [0.98230662 1.        ]] \n",
      "\n",
      " [[1.        0.9810007]\n",
      " [0.9810007 1.       ]]\n"
     ]
    }
   ],
   "source": [
    "# np.corrcoef()\n",
    "# plus on s'approche du 1 ou -1, lesq variables sont correllees, si on s'approche de 0, on perd en correlation\n",
    "print(np.corrcoef(X, X+Y), \"\\n\\n\", np.corrcoef(X, X*Y), \"\\n\\n\", np.corrcoef(2*X + Y, 3*X + Y))"
   ]
  },
  {
   "cell_type": "markdown",
   "metadata": {},
   "source": [
    "## Exercice 5"
   ]
  },
  {
   "cell_type": "code",
   "execution_count": 107,
   "metadata": {},
   "outputs": [],
   "source": [
    "X = loi.uniform(0, 9, size=20)\n",
    "Y = loi.uniform(0, 9, size=20)"
   ]
  },
  {
   "cell_type": "code",
   "execution_count": 108,
   "metadata": {},
   "outputs": [
    {
     "data": {
      "text/plain": [
       "<matplotlib.legend.Legend at 0x7fad1f7507f0>"
      ]
     },
     "execution_count": 108,
     "metadata": {},
     "output_type": "execute_result"
    },
    {
     "data": {
      "image/png": "[encoded data removed]",
      "text/plain": [
       "<Figure size 432x288 with 1 Axes>"
      ]
     },
     "metadata": {
      "needs_background": "light"
     },
     "output_type": "display_data"
    }
   ],
   "source": [
    "plt.figure()\n",
    "plt.plot(X, Y, 'x', color='black', label='X')\n",
    "plt.title('Ligne de régression')\n",
    "plt.xlabel('')\n",
    "plt.ylabel('')\n",
    "plt.legend()"
   ]
  },
  {
   "cell_type": "code",
   "execution_count": 109,
   "metadata": {},
   "outputs": [],
   "source": [
    "mean_X = np.mean(X)\n",
    "mean_Y = np.mean(Y)\n",
    "var_X = np.var(X)\n",
    "cov_X_Y = np.cov(X, Y)"
   ]
  },
  {
   "cell_type": "code",
   "execution_count": 116,
   "metadata": {},
   "outputs": [
    {
     "data": {
      "text/plain": [
       "<matplotlib.legend.Legend at 0x7fad1f589670>"
      ]
     },
     "execution_count": 116,
     "metadata": {},
     "output_type": "execute_result"
    },
    {
     "data": {
      "image/png": "[encoded data removed]",
      "text/plain": [
       "<Figure size 432x288 with 1 Axes>"
      ]
     },
     "metadata": {
      "needs_background": "light"
     },
     "output_type": "display_data"
    }
   ],
   "source": [
    "# 4.\n",
    "vec = np.arange(0, 10)\n",
    "y_f = (cov_X_Y[0][1] / var_X) * (vec - mean_X) + mean_Y\n",
    "plt.figure()\n",
    "plt.plot(vec, y_f, 'r', label='droite')\n",
    "plt.title('Ligne de régression')\n",
    "plt.xlabel('x')\n",
    "plt.ylabel('y')\n",
    "plt.legend()"
   ]
  },
  {
   "cell_type": "code",
   "execution_count": 117,
   "metadata": {},
   "outputs": [],
   "source": [
    "def ligne_regression(borne_min, borne_sup, size):\n",
    "    X = loi.uniform(borne_min, borne_sup, size)\n",
    "    Y = loi.uniform(borne_min, borne_sup, size)\n",
    "    mean_X = np.mean(X)\n",
    "    mean_Y = np.mean(Y)\n",
    "    var_X = np.var(X)\n",
    "    cov_X_Y = np.cov(X, Y)\n",
    "    x = np.arange(borne_min, borne_sup)\n",
    "    y = (cov_X_Y[0][1] / var_X) * (x - mean_X) + mean_Y\n",
    "    return x, y"
   ]
  },
  {
   "cell_type": "code",
   "execution_count": 118,
   "metadata": {},
   "outputs": [
    {
     "data": {
      "text/plain": [
       "(array([0, 1, 2, 3, 4, 5, 6, 7, 8]),\n",
       " array([6.7214003 , 6.67276407, 6.62412783, 6.5754916 , 6.52685536,\n",
       "        6.47821912, 6.42958289, 6.38094665, 6.33231042]))"
      ]
     },
     "execution_count": 118,
     "metadata": {},
     "output_type": "execute_result"
    }
   ],
   "source": [
    "xv, yv = ligne_regression(0, 9, 20)"
   ]
  },
  {
   "cell_type": "markdown",
   "metadata": {},
   "source": [
    "## CC Blanc\n",
    "### Exercice 1"
   ]
  },
  {
   "cell_type": "code",
   "execution_count": 48,
   "metadata": {},
   "outputs": [],
   "source": [
    "# 1\n",
    "joueur_X1 = loi.normal(0, 50, size=100)\n",
    "joueur_X2 = loi.uniform(-75, 75, size=100)"
   ]
  },
  {
   "cell_type": "code",
   "execution_count": 49,
   "metadata": {},
   "outputs": [
    {
     "name": "stdout",
     "output_type": "stream",
     "text": [
      "Moy X1:  -5.56687827549497  | Moy X2:  -0.031447832045319334\n",
      "Ecart Type X1:  45.53445209959166  | Ecart Type X2:  43.438898467938344\n"
     ]
    }
   ],
   "source": [
    "# 2\n",
    "mean_X1 = np.mean(joueur_X1)\n",
    "mean_X2 = np.mean(joueur_X2)\n",
    "print(\"Moy X1: \", mean_X1, \" | Moy X2: \", mean_X2)\n",
    "std_dev_X1 = np.std(joueur_X1)\n",
    "std_dev_X2 = np.std(joueur_X2)\n",
    "print(\"Ecart Type X1: \", std_dev_X1, \" | Ecart Type X2: \", std_dev_X2)"
   ]
  },
  {
   "cell_type": "code",
   "execution_count": 50,
   "metadata": {},
   "outputs": [
    {
     "name": "stdout",
     "output_type": "stream",
     "text": [
      "Ecarts-types théoriques\n",
      "ecart-type de X1 = 50\n",
      "ecart-type de X2 = 43.30127018922193\n",
      "\n",
      "Moyenne théorique\n",
      "Moyenne théroque X1 = 0\n",
      "Moyenne théroque X2 = 0.0\n"
     ]
    }
   ],
   "source": [
    "print(\"Ecarts-types théoriques\")\n",
    "print(\"ecart-type de X1 =\", 50)\n",
    "print(\"ecart-type de X2 =\", sqrt((75 + 75)**2 / 12))\n",
    "\n",
    "print(\"\\nMoyenne théorique\")\n",
    "print(\"Moyenne théroque X1 =\", 0)\n",
    "print(\"Moyenne théroque X2 =\", (-75+75)/2)"
   ]
  },
  {
   "cell_type": "code",
   "execution_count": 54,
   "metadata": {},
   "outputs": [
    {
     "name": "stdout",
     "output_type": "stream",
     "text": [
      "[[2094.32962425 -323.20345954]\n",
      " [-323.20345954 1905.9978789 ]]\n"
     ]
    }
   ],
   "source": [
    "# 4\n",
    "cov_X1X2 = np.cov(joueur_X1, joueur_X2)\n",
    "print(cov_X1X2)"
   ]
  },
  {
   "cell_type": "code",
   "execution_count": 58,
   "metadata": {},
   "outputs": [
    {
     "data": {
      "text/plain": [
       "array([[ 1.        , -0.16176787],\n",
       "       [-0.16176787,  1.        ]])"
      ]
     },
     "execution_count": 58,
     "metadata": {},
     "output_type": "execute_result"
    }
   ],
   "source": [
    "# 5\n",
    "np.corrcoef(joueur_X1, joueur_X2)\n",
    "# peu de corrélation, donc trés peu lié"
   ]
  },
  {
   "cell_type": "code",
   "execution_count": 59,
   "metadata": {},
   "outputs": [],
   "source": [
    "# 6\n"
   ]
  },
  {
   "cell_type": "markdown",
   "metadata": {},
   "source": [
    "### Exercice 2"
   ]
  },
  {
   "cell_type": "code",
   "execution_count": 3,
   "metadata": {},
   "outputs": [],
   "source": [
    "import pickle\n",
    "\n",
    "# EXAM PROBAS 2017-2018\n",
    "# EXERCICE 2 : Lois de probabilités\n",
    "\n",
    "# Lecture du fichier au format Pickle\n",
    "f = open('exam_tp2017.pkl', 'rb')\n",
    "loi1 = pickle.load(f)\n",
    "loi2 = pickle.load(f)\n",
    "loi3 = pickle.load(f)\n",
    "loi4 = pickle.load(f)\n",
    "loi5 = pickle.load(f)\n",
    "loi6 = pickle.load(f)\n",
    "loi7 = pickle.load(f)\n",
    "loi8 = pickle.load(f)\n",
    "loi9 = pickle.load(f)\n",
    "loi10 = pickle.load(f)\n",
    "f.close()\n",
    "\n",
    "# Ajoutez vos tests ici afin de deviner chacune des lois !"
   ]
  },
  {
   "cell_type": "code",
   "execution_count": 5,
   "metadata": {},
   "outputs": [
    {
     "name": "stdout",
     "output_type": "stream",
     "text": [
      "-0.0008832615885600633\n",
      "0.9999865014859886\n",
      "-0.999992294675567\n",
      "0.3343506328026537\n"
     ]
    },
    {
     "data": {
      "image/png": "[encoded data removed]",
      "text/plain": [
       "<Figure size 432x288 with 1 Axes>"
      ]
     },
     "metadata": {
      "needs_background": "light"
     },
     "output_type": "display_data"
    }
   ],
   "source": [
    "# loi1\n",
    "print(np.mean(loi1))\n",
    "print(np.max(loi1))\n",
    "print(np.min(loi1))\n",
    "print(np.var(loi1))\n",
    "plt.hist(loi1, bins=500)\n",
    "plt.show()\n",
    "# Loi uniforme [-1; 1]"
   ]
  },
  {
   "cell_type": "code",
   "execution_count": 93,
   "metadata": {},
   "outputs": [
    {
     "name": "stdout",
     "output_type": "stream",
     "text": [
      "0.0011098547148869372\n",
      "4.301199481112454\n",
      "-4.243824260124401\n",
      "1.0004054267442208\n"
     ]
    },
    {
     "data": {
      "image/png": "[encoded data removed]",
      "text/plain": [
       "<Figure size 432x288 with 1 Axes>"
      ]
     },
     "metadata": {
      "needs_background": "light"
     },
     "output_type": "display_data"
    }
   ],
   "source": [
    "# loi2\n",
    "print(np.mean(loi2))\n",
    "print(np.max(loi2))\n",
    "print(np.min(loi2))\n",
    "print(np.var(loi2))\n",
    "plt.hist(loi2, bins=120)\n",
    "plt.show()\n",
    "# loi normale N(0, 1)"
   ]
  },
  {
   "cell_type": "code",
   "execution_count": 94,
   "metadata": {
    "scrolled": true
   },
   "outputs": [
    {
     "name": "stdout",
     "output_type": "stream",
     "text": [
      "1.00282\n",
      "8\n",
      "0\n",
      "1.0004920476\n"
     ]
    },
    {
     "data": {
      "image/png": "[encoded data removed]",
      "text/plain": [
       "<Figure size 432x288 with 1 Axes>"
      ]
     },
     "metadata": {
      "needs_background": "light"
     },
     "output_type": "display_data"
    }
   ],
   "source": [
    "# loi3\n",
    "print(np.mean(loi3))\n",
    "print(np.max(loi3))\n",
    "print(np.min(loi3))\n",
    "print(np.var(loi3))\n",
    "plt.hist(loi3, bins=120)\n",
    "plt.show()\n",
    "# loi poisson [1]"
   ]
  },
  {
   "cell_type": "code",
   "execution_count": 95,
   "metadata": {},
   "outputs": [
    {
     "name": "stdout",
     "output_type": "stream",
     "text": [
      "1.000754774373004\n",
      "11.183316803992199\n",
      "6.199229982574534e-06\n",
      "1.0065793130024563\n"
     ]
    },
    {
     "data": {
      "image/png": "[encoded data removed]",
      "text/plain": [
       "<Figure size 432x288 with 1 Axes>"
      ]
     },
     "metadata": {
      "needs_background": "light"
     },
     "output_type": "display_data"
    }
   ],
   "source": [
    "# loi4\n",
    "print(np.mean(loi4))\n",
    "print(np.max(loi4))\n",
    "print(np.min(loi4))\n",
    "print(np.var(loi4))\n",
    "plt.hist(loi4, bins=120)\n",
    "plt.show()\n",
    "# loi exponentielle lambda = 1"
   ]
  },
  {
   "cell_type": "code",
   "execution_count": 97,
   "metadata": {},
   "outputs": [
    {
     "name": "stdout",
     "output_type": "stream",
     "text": [
      "1.24868\n",
      "7\n",
      "1\n",
      "0.3052382576\n"
     ]
    },
    {
     "data": {
      "image/png": "[encoded data removed]",
      "text/plain": [
       "<Figure size 432x288 with 1 Axes>"
      ]
     },
     "metadata": {
      "needs_background": "light"
     },
     "output_type": "display_data"
    }
   ],
   "source": [
    "# loi5\n",
    "print(np.mean(loi5))\n",
    "print(np.max(loi5))\n",
    "print(np.min(loi5))\n",
    "print(np.var(loi5))\n",
    "plt.hist(loi5, bins=120)\n",
    "plt.show()\n",
    "# loi géométrique p = [0.8]"
   ]
  },
  {
   "cell_type": "code",
   "execution_count": 99,
   "metadata": {},
   "outputs": [
    {
     "name": "stdout",
     "output_type": "stream",
     "text": [
      "4.99036\n",
      "18\n",
      "0\n",
      "4.984027070400001\n"
     ]
    },
    {
     "data": {
      "image/png": "[encoded data removed]",
      "text/plain": [
       "<Figure size 432x288 with 1 Axes>"
      ]
     },
     "metadata": {
      "needs_background": "light"
     },
     "output_type": "display_data"
    }
   ],
   "source": [
    "# loi6\n",
    "print(np.mean(loi6))\n",
    "print(np.max(loi6))\n",
    "print(np.min(loi6))\n",
    "print(np.var(loi6))\n",
    "plt.hist(loi6, bins=120)\n",
    "plt.show()\n",
    "# loi poisson lambda = ~5"
   ]
  },
  {
   "cell_type": "code",
   "execution_count": 104,
   "metadata": {},
   "outputs": [
    {
     "name": "stdout",
     "output_type": "stream",
     "text": [
      "4.996243983033722\n",
      "14.1258176336377\n",
      "-3.269599718260066\n",
      "4.0066733847992815\n",
      "std =  0.0\n"
     ]
    },
    {
     "data": {
      "image/png": "[encoded data removed]",
      "text/plain": [
       "<Figure size 432x288 with 1 Axes>"
      ]
     },
     "metadata": {
      "needs_background": "light"
     },
     "output_type": "display_data"
    }
   ],
   "source": [
    "# loi7\n",
    "print(np.mean(loi7))\n",
    "print(np.max(loi7))\n",
    "print(np.min(loi7))\n",
    "print(np.var(loi7))\n",
    "print(\"std = \", np.std(np.var(loi7)))\n",
    "plt.hist(loi7, bins=120)\n",
    "plt.show()\n",
    "# loi normale [5, 2]"
   ]
  },
  {
   "cell_type": "code",
   "execution_count": 106,
   "metadata": {},
   "outputs": [
    {
     "name": "stdout",
     "output_type": "stream",
     "text": [
      "5.0040185278613505\n",
      "26.46541216294054\n",
      "-15.901612845867987\n",
      "24.918903811302407\n"
     ]
    },
    {
     "data": {
      "image/png": "[encoded data removed]",
      "text/plain": [
       "<Figure size 432x288 with 1 Axes>"
      ]
     },
     "metadata": {
      "needs_background": "light"
     },
     "output_type": "display_data"
    }
   ],
   "source": [
    "# loi8\n",
    "print(np.mean(loi8))\n",
    "print(np.max(loi8))\n",
    "print(np.min(loi8))\n",
    "print(np.var(loi8))\n",
    "# print(\"std = \", np.std(np.var(loi7)))\n",
    "plt.hist(loi8, bins=120)\n",
    "plt.show()\n",
    "# loi normale [5, 5]"
   ]
  },
  {
   "cell_type": "code",
   "execution_count": 1,
   "metadata": {},
   "outputs": [
    {
     "ename": "NameError",
     "evalue": "name 'np' is not defined",
     "output_type": "error",
     "traceback": [
      "\u001b[0;31m---------------------------------------------------------------------------\u001b[0m",
      "\u001b[0;31mNameError\u001b[0m                                 Traceback (most recent call last)",
      "\u001b[0;32m<ipython-input-1-44794f3e8cf0>\u001b[0m in \u001b[0;36m<module>\u001b[0;34m\u001b[0m\n\u001b[1;32m      1\u001b[0m \u001b[0;31m# loi9\u001b[0m\u001b[0;34m\u001b[0m\u001b[0;34m\u001b[0m\u001b[0;34m\u001b[0m\u001b[0m\n\u001b[0;32m----> 2\u001b[0;31m \u001b[0mprint\u001b[0m\u001b[0;34m(\u001b[0m\u001b[0mnp\u001b[0m\u001b[0;34m.\u001b[0m\u001b[0mmean\u001b[0m\u001b[0;34m(\u001b[0m\u001b[0mloi9\u001b[0m\u001b[0;34m)\u001b[0m\u001b[0;34m)\u001b[0m\u001b[0;34m\u001b[0m\u001b[0;34m\u001b[0m\u001b[0m\n\u001b[0m\u001b[1;32m      3\u001b[0m \u001b[0mprint\u001b[0m\u001b[0;34m(\u001b[0m\u001b[0mnp\u001b[0m\u001b[0;34m.\u001b[0m\u001b[0mmax\u001b[0m\u001b[0;34m(\u001b[0m\u001b[0mloi9\u001b[0m\u001b[0;34m)\u001b[0m\u001b[0;34m)\u001b[0m\u001b[0;34m\u001b[0m\u001b[0;34m\u001b[0m\u001b[0m\n\u001b[1;32m      4\u001b[0m \u001b[0mprint\u001b[0m\u001b[0;34m(\u001b[0m\u001b[0mnp\u001b[0m\u001b[0;34m.\u001b[0m\u001b[0mmin\u001b[0m\u001b[0;34m(\u001b[0m\u001b[0mloi9\u001b[0m\u001b[0;34m)\u001b[0m\u001b[0;34m)\u001b[0m\u001b[0;34m\u001b[0m\u001b[0;34m\u001b[0m\u001b[0m\n\u001b[1;32m      5\u001b[0m \u001b[0mprint\u001b[0m\u001b[0;34m(\u001b[0m\u001b[0mnp\u001b[0m\u001b[0;34m.\u001b[0m\u001b[0mvar\u001b[0m\u001b[0;34m(\u001b[0m\u001b[0mloi9\u001b[0m\u001b[0;34m)\u001b[0m\u001b[0;34m)\u001b[0m\u001b[0;34m\u001b[0m\u001b[0;34m\u001b[0m\u001b[0m\n",
      "\u001b[0;31mNameError\u001b[0m: name 'np' is not defined"
     ]
    }
   ],
   "source": [
    "# loi9\n",
    "print(np.mean(loi9))\n",
    "print(np.max(loi9))\n",
    "print(np.min(loi9))\n",
    "print(np.var(loi9))\n",
    "# print(\"std = \", np.std(np.var(loi7)))\n",
    "plt.hist(loi9, bins=500)\n",
    "plt.show()\n",
    "# loi uniforme [0, 5]"
   ]
  },
  {
   "cell_type": "code",
   "execution_count": 111,
   "metadata": {},
   "outputs": [
    {
     "name": "stdout",
     "output_type": "stream",
     "text": [
      "1.9992564741448968\n",
      "21.554581086115252\n",
      "1.566862549312897e-05\n",
      "3.981520269253356\n"
     ]
    },
    {
     "data": {
      "image/png": "[encoded data removed]",
      "text/plain": [
       "<Figure size 432x288 with 1 Axes>"
      ]
     },
     "metadata": {
      "needs_background": "light"
     },
     "output_type": "display_data"
    }
   ],
   "source": [
    "# loi10\n",
    "print(np.mean(loi10))\n",
    "print(np.max(loi10))\n",
    "print(np.min(loi10))\n",
    "print(np.var(loi10))\n",
    "plt.hist(loi10, bins=120)\n",
    "plt.show()\n",
    "# loi exponentielle lambda = 0.5"
   ]
  },
  {
   "cell_type": "markdown",
   "metadata": {},
   "source": [
    "## Test du chi2"
   ]
  },
  {
   "cell_type": "code",
   "execution_count": null,
   "metadata": {},
   "outputs": [],
   "source": []
  }
 ],
 "metadata": {
  "kernelspec": {
   "display_name": "Python 3",
   "language": "python",
   "name": "python3"
  },
  "language_info": {
   "codemirror_mode": {
    "name": "ipython",
    "version": 3
   },
   "file_extension": ".py",
   "mimetype": "text/x-python",
   "name": "python",
   "nbconvert_exporter": "python",
   "pygments_lexer": "ipython3",
   "version": "3.8.3"
  }
 },
 "nbformat": 4,
 "nbformat_minor": 4
}
